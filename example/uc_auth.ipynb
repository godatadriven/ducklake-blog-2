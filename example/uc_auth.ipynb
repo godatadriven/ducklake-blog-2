{
 "cells": [
  {
   "metadata": {},
   "cell_type": "markdown",
   "source": "### Create a user in Unity Catalog and grant access to a table.",
   "id": "46fb77f1f0dac7e7"
  },
  {
   "cell_type": "code",
   "id": "64bb239c-3e00-4747-a0bc-939af298f042",
   "metadata": {
    "ExecuteTime": {
     "start_time": "2025-01-07T11:52:58.740077Z"
    }
   },
   "source": [
    "import asyncio\n",
    "import duckdb\n",
    "import requests\n",
    "from unitycatalog import client as uc\n",
    "\n",
    "from auth import get_bearer_token, get_admin_token, TokenType\n",
    "from user import get_or_create_user, grant"
   ],
   "outputs": [],
   "execution_count": 1
  },
  {
   "metadata": {},
   "cell_type": "markdown",
   "source": "#### Define the required endpoints\n",
   "id": "4f3553df79a0f601"
  },
  {
   "metadata": {
    "ExecuteTime": {
     "end_time": "2025-01-07T11:52:58.595120Z",
     "start_time": "2025-01-07T11:52:58.590794Z"
    }
   },
   "cell_type": "code",
   "source": [
    "unity_endpoint = \"http://uc:8080\"\n",
    "idp_token_endpoint = \"https://nginx/oauth2/token\"\n",
    "catalog_endpoint = f\"{unity_endpoint}/api/2.1/unity-catalog\"\n",
    "control_endpoint = f\"{unity_endpoint}/api/1.0/unity-control\"\n",
    "uc_token_endpoint = f\"{control_endpoint}/auth/tokens\"\n",
    "user_endpoint = f\"{control_endpoint}/scim2/Users\""
   ],
   "id": "f024a4281a29e81b",
   "outputs": [],
   "execution_count": 2
  },
  {
   "metadata": {},
   "cell_type": "markdown",
   "source": "#### Exchange admin token for a bearer token",
   "id": "2ba39a1b1740379b"
  },
  {
   "cell_type": "code",
   "id": "654b5d9a-e65b-4a12-ba7d-2b4612aee225",
   "metadata": {
    "ExecuteTime": {
     "end_time": "2025-01-07T11:53:00.885234Z",
     "start_time": "2025-01-07T11:53:00.456956Z"
    }
   },
   "source": [
    "token_file = \"/app/unitycatalog/etc/conf/token.txt\"\n",
    "admin_token = get_admin_token(token_file)\n",
    "admin_bearer_token = get_bearer_token(url=uc_token_endpoint, token=admin_token, scope=\"admin\", token_type=TokenType.TOKEN_EXCHANGE)"
   ],
   "outputs": [],
   "execution_count": 4
  },
  {
   "metadata": {},
   "cell_type": "markdown",
   "source": "#### Create the user",
   "id": "3631a4ea3bdd58ad"
  },
  {
   "metadata": {
    "ExecuteTime": {
     "end_time": "2025-01-07T11:53:02.709096Z",
     "start_time": "2025-01-07T11:53:02.596803Z"
    }
   },
   "cell_type": "code",
   "source": [
    "test_user = get_or_create_user(username=\"12345abcde\",  # Don't adjust this username\n",
    "                        display_name=\"Test User\",\n",
    "                        access_token=admin_bearer_token,\n",
    "                        )\n",
    "\n",
    "print(test_user)"
   ],
   "id": "5b9b189e01e635a1",
   "outputs": [
    {
     "name": "stdout",
     "output_type": "stream",
     "text": [
      "id='09e3989a-e24e-44ef-874b-94966afabf72' userName='12345abcde' displayName='Test User' emails=[Email(value='12345abcde')] active=True meta=Meta(resourceType='User', created='2025-01-07T11:53:02.693+00:00', lastModified='2025-01-07T11:53:02.696+00:00') schemas=['urn:ietf:params:scim:schemas:core:2.0:User'] photos=[Photo(value='')]\n"
     ]
    }
   ],
   "execution_count": 5
  },
  {
   "metadata": {},
   "cell_type": "markdown",
   "source": "#### Get access token for the user",
   "id": "b68457d5978f582b"
  },
  {
   "metadata": {
    "ExecuteTime": {
     "end_time": "2025-01-07T11:53:05.622368Z",
     "start_time": "2025-01-07T11:53:05.371824Z"
    }
   },
   "cell_type": "code",
   "source": [
    "idp_token = requests.post(idp_token_endpoint, data= {'username': test_user.userName,'scope': 'user'}, verify=False).json()\n",
    "user_bearer_token = get_bearer_token(url=uc_token_endpoint, token=idp_token['id_token'], scope=\"user\", token_type=TokenType.TOKEN_EXCHANGE)"
   ],
   "id": "792ce305fe6c2ffe",
   "outputs": [],
   "execution_count": 6
  },
  {
   "metadata": {},
   "cell_type": "markdown",
   "source": "#### Setup connection between DuckDB and Unity Catalog",
   "id": "c90ccc6f20afe577"
  },
  {
   "metadata": {
    "ExecuteTime": {
     "end_time": "2025-01-07T11:53:08.904417Z",
     "start_time": "2025-01-07T11:53:06.871834Z"
    }
   },
   "cell_type": "code",
   "source": [
    "conn = duckdb.connect()\n",
    "conn.sql(f\"\"\"\n",
    "        INSTALL uc_catalog from core_nightly;\n",
    "        INSTALL delta from core;\n",
    "        LOAD delta;\n",
    "        LOAD uc_catalog;\n",
    "        CREATE SECRET (\n",
    "            TYPE UC,\n",
    "            TOKEN '{user_bearer_token}',\n",
    "            ENDPOINT '{unity_endpoint}',\n",
    "            AWS_REGION 'not-set'\n",
    "        );\n",
    "        \"\"\")\n",
    "\n",
    "conn.sql(\"ATTACH DATABASE 'unity' as unity (TYPE UC_CATALOG);\")\n"
   ],
   "id": "7e6918c2098b48f1",
   "outputs": [],
   "execution_count": 7
  },
  {
   "metadata": {},
   "cell_type": "markdown",
   "source": "#### List tables in Unity Catalog.",
   "id": "8e6f6bfae138fd25"
  },
  {
   "metadata": {
    "ExecuteTime": {
     "end_time": "2025-01-07T11:53:11.684246Z",
     "start_time": "2025-01-07T11:53:11.364694Z"
    }
   },
   "cell_type": "code",
   "source": "conn.sql(\"SHOW ALL TABLES;\")",
   "id": "e5532810b61ed04b",
   "outputs": [
    {
     "data": {
      "text/plain": [
       "┌──────────┬─────────┬─────────┬──────────────┬──────────────┬───────────┐\n",
       "│ database │ schema  │  name   │ column_names │ column_types │ temporary │\n",
       "│ varchar  │ varchar │ varchar │  varchar[]   │  varchar[]   │  boolean  │\n",
       "├──────────┴─────────┴─────────┴──────────────┴──────────────┴───────────┤\n",
       "│                                 0 rows                                 │\n",
       "└────────────────────────────────────────────────────────────────────────┘"
      ]
     },
     "execution_count": 8,
     "metadata": {},
     "output_type": "execute_result"
    }
   ],
   "execution_count": 8
  },
  {
   "metadata": {},
   "cell_type": "markdown",
   "source": "No tables shown, because the user has not been granted access to any table.\n",
   "id": "6b3178ce82698aae"
  },
  {
   "metadata": {},
   "cell_type": "markdown",
   "source": [
    "To access a table, the user needs to have the following privileges:\n",
    "- USE_CATALOG on the catalog\n",
    "- USE_SCHEMA on the schema\n",
    "- SELECT on the table"
   ],
   "id": "668901af7671bbed"
  },
  {
   "metadata": {},
   "cell_type": "markdown",
   "source": "#### Grant privileges to the user.",
   "id": "58bbf0e23d94b1f9"
  },
  {
   "metadata": {
    "ExecuteTime": {
     "end_time": "2025-01-07T11:53:14.618111Z",
     "start_time": "2025-01-07T11:53:14.486569Z"
    }
   },
   "cell_type": "code",
   "source": [
    "api_client = uc.ApiClient(configuration=uc.Configuration(host=catalog_endpoint))\n",
    "grants_api = uc.GrantsApi(api_client)\n",
    "header = {'Authorization': f'Bearer {admin_bearer_token}'}\n",
    "\n",
    "await asyncio.gather(\n",
    "    grant(full_name=\"unity\", user=test_user, privileges=[uc.Privilege.USE_CATALOG], securable_type=uc.SecurableType.CATALOG, grants_api=grants_api, headers=header),\n",
    "    grant(full_name=\"unity.default\", user=test_user, privileges=[uc.Privilege.USE_SCHEMA], securable_type=uc.SecurableType.SCHEMA, grants_api=grants_api, headers=header),\n",
    "    grant(full_name=\"unity.default.numbers\", user=test_user, privileges=[uc.Privilege.SELECT], securable_type=uc.SecurableType.TABLE, grants_api=grants_api, headers=header)\n",
    ")"
   ],
   "id": "fdacf41fb63c4aca",
   "outputs": [
    {
     "data": {
      "text/plain": [
       "[PermissionsList(privilege_assignments=[PrivilegeAssignment(principal='12345abcde', privileges=[<Privilege.USE_CATALOG: 'USE CATALOG'>])]),\n",
       " PermissionsList(privilege_assignments=[PrivilegeAssignment(principal='12345abcde', privileges=[<Privilege.USE_SCHEMA: 'USE SCHEMA'>])]),\n",
       " PermissionsList(privilege_assignments=[PrivilegeAssignment(principal='12345abcde', privileges=[<Privilege.SELECT: 'SELECT'>])])]"
      ]
     },
     "execution_count": 9,
     "metadata": {},
     "output_type": "execute_result"
    }
   ],
   "execution_count": 9
  },
  {
   "metadata": {},
   "cell_type": "markdown",
   "source": "#### Access the table",
   "id": "84763e5f18bfbe13"
  },
  {
   "metadata": {
    "ExecuteTime": {
     "end_time": "2025-01-07T11:53:17.243204Z",
     "start_time": "2025-01-07T11:53:17.108432Z"
    }
   },
   "cell_type": "code",
   "source": [
    "conn.sql(\"DETACH DATABASE unity;\")\n",
    "conn.sql(\"ATTACH DATABASE 'unity' as unity (TYPE UC_CATALOG);\")\n",
    "conn.sql(\"SHOW ALL TABLES;\")"
   ],
   "id": "3753b7d1caa505ba",
   "outputs": [
    {
     "data": {
      "text/plain": [
       "┌──────────┬─────────┬─────────┬─────────────────────┬───────────────────┬───────────┐\n",
       "│ database │ schema  │  name   │    column_names     │   column_types    │ temporary │\n",
       "│ varchar  │ varchar │ varchar │      varchar[]      │     varchar[]     │  boolean  │\n",
       "├──────────┼─────────┼─────────┼─────────────────────┼───────────────────┼───────────┤\n",
       "│ unity    │ default │ numbers │ [as_int, as_double] │ [INTEGER, DOUBLE] │ false     │\n",
       "└──────────┴─────────┴─────────┴─────────────────────┴───────────────────┴───────────┘"
      ]
     },
     "execution_count": 10,
     "metadata": {},
     "output_type": "execute_result"
    }
   ],
   "execution_count": 10
  },
  {
   "metadata": {
    "ExecuteTime": {
     "end_time": "2025-01-07T11:53:19.104284Z",
     "start_time": "2025-01-07T11:53:19.000672Z"
    }
   },
   "cell_type": "code",
   "source": "conn.sql(\"select * from unity.default.numbers\")",
   "id": "b457cd3662868305",
   "outputs": [
    {
     "data": {
      "text/plain": [
       "┌────────┬────────────────────┐\n",
       "│ as_int │     as_double      │\n",
       "│ int32  │       double       │\n",
       "├────────┼────────────────────┤\n",
       "│    564 │ 188.75535598441473 │\n",
       "│    755 │  883.6105633023361 │\n",
       "│    644 │  203.4395591086936 │\n",
       "│     75 │  277.8802190765611 │\n",
       "│     42 │   403.857969425109 │\n",
       "│    680 │  797.6912200731077 │\n",
       "│    821 │  767.7998537403159 │\n",
       "│    484 │ 344.00373976089304 │\n",
       "│    477 │  380.6785614543262 │\n",
       "│    131 │  35.44373222835895 │\n",
       "│    294 │ 209.32243623208947 │\n",
       "│    150 │ 329.19730274053694 │\n",
       "│    539 │ 425.66102859000944 │\n",
       "│    247 │   477.742227230588 │\n",
       "│    958 │  509.3712727285101 │\n",
       "├────────┴────────────────────┤\n",
       "│ 15 rows           2 columns │\n",
       "└─────────────────────────────┘"
      ]
     },
     "execution_count": 11,
     "metadata": {},
     "output_type": "execute_result"
    }
   ],
   "execution_count": 11
  },
  {
   "metadata": {},
   "cell_type": "markdown",
   "source": [
    "#### Summary\n",
    "In this notebook, we demonstrated how to authenticate a user in Unity Catalog and grant access to a table. Please contact us if you have any questions or need further assistance."
   ],
   "id": "8da9119823599249"
  }
 ],
 "metadata": {
  "kernelspec": {
   "display_name": "Python 3 (ipykernel)",
   "language": "python",
   "name": "python3"
  },
  "language_info": {
   "codemirror_mode": {
    "name": "ipython",
    "version": 3
   },
   "file_extension": ".py",
   "mimetype": "text/x-python",
   "name": "python",
   "nbconvert_exporter": "python",
   "pygments_lexer": "ipython3",
   "version": "3.11.10"
  }
 },
 "nbformat": 4,
 "nbformat_minor": 5
}
